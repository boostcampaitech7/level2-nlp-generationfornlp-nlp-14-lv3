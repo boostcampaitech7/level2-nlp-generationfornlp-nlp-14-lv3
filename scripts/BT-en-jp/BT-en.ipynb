{
 "cells": [
  {
   "cell_type": "markdown",
   "metadata": {},
   "source": [
    "##### 필요 Import "
   ]
  },
  {
   "cell_type": "code",
   "execution_count": null,
   "metadata": {},
   "outputs": [],
   "source": [
    "import pandas as pd\n",
    "import deepl"
   ]
  },
  {
   "cell_type": "markdown",
   "metadata": {},
   "source": [
    "-----"
   ]
  },
  {
   "cell_type": "markdown",
   "metadata": {},
   "source": [
    "##### 데이터 로드 및 번역 API 설정"
   ]
  },
  {
   "cell_type": "code",
   "execution_count": null,
   "metadata": {},
   "outputs": [],
   "source": [
    "DATA_DIR = '/data/ephemeral/home/level2-nlp-generationfornlp-nlp-14-lv3/data/'\n",
    "df = pd.read_csv(DATA_DIR + 'train.csv')"
   ]
  },
  {
   "cell_type": "code",
   "execution_count": null,
   "metadata": {},
   "outputs": [],
   "source": [
    "auth_key = \"API-KEY\"\n",
    "translator = deepl.Translator(auth_key)"
   ]
  },
  {
   "cell_type": "markdown",
   "metadata": {},
   "source": [
    "-----\n",
    "##### 역번역 함수"
   ]
  },
  {
   "cell_type": "code",
   "execution_count": null,
   "metadata": {},
   "outputs": [],
   "source": [
    "def back_translate_question(question, change_lang):\n",
    "    try:\n",
    "        # 한국어 -> 영어로 번역\n",
    "        translated = translator.translate_text(question, target_lang=change_lang, source_lang='KO')\n",
    "        # 영어 -> 한국어로 역번역\n",
    "        back_translated = translator.translate_text(translated.text, target_lang='KO')\n",
    "        \n",
    "        print(change_lang, \"로 번역되는 중...\")\n",
    "        print(\"원래 문장: \", question)\n",
    "        print(\"번역된 문장: \", back_translated)\n",
    "        \n",
    "        return back_translated.text, translated.text\n",
    "    \n",
    "    except Exception as e:\n",
    "        print(f\"Error translating question: {e}\")\n",
    "        return \"\", \"\""
   ]
  },
  {
   "cell_type": "markdown",
   "metadata": {},
   "source": [
    "-----\n",
    "##### 역번역 진행"
   ]
  },
  {
   "cell_type": "code",
   "execution_count": null,
   "metadata": {},
   "outputs": [],
   "source": [
    "# 번역된 문제와 BLEU 점수를 저장할 리스트\n",
    "back_translations_en = []\n",
    "back_translations_jp = []"
   ]
  },
  {
   "cell_type": "code",
   "execution_count": null,
   "metadata": {},
   "outputs": [],
   "source": [
    "for idx, problem in df['problems'].items():\n",
    "    try:\n",
    "        # 'problems' 열의 문제는 문자열 형태의 딕셔너리로 가정\n",
    "        problem_dict = eval(problem)\n",
    "        question_korean = problem_dict.get('question', '')\n",
    "        \n",
    "        # 질문을 영어와 일본어로 번역 (DeepL API)\n",
    "        back_translated_en, translated_en = back_translate_question(question_korean, \"EN-US\")\n",
    "        back_translated_jp, translated_jp = back_translate_question(question_korean, \"JA\")\n",
    "        \n",
    "        # 번역된 질문을 리스트에 추가\n",
    "        back_translations_en.append(back_translated_en)\n",
    "        back_translations_jp.append(back_translated_jp)\n",
    "    \n",
    "    except Exception as e:\n",
    "        print(f\"Error processing row {idx}: {e}\")\n",
    "        back_translations_en.append(\"\")\n",
    "        back_translations_jp.append(\"\")"
   ]
  },
  {
   "cell_type": "markdown",
   "metadata": {},
   "source": [
    "-----\n",
    "##### 역번역 데이터 백업"
   ]
  },
  {
   "cell_type": "code",
   "execution_count": null,
   "metadata": {},
   "outputs": [],
   "source": [
    "bt_en = pd.DataFrame({\n",
    "    'problems': back_translations_en\n",
    "})\n",
    "output_file = 'back_translations_en.csv'\n",
    "bt_en.to_csv(DATA_DIR + output_file, index=False)\n",
    "\n",
    "bt_jp = pd.DataFrame({\n",
    "    'problems': back_translations_jp\n",
    "})\n",
    "output_file = 'back_translations_jp.csv'\n",
    "bt_jp.to_csv(DATA_DIR + output_file, index=False)"
   ]
  },
  {
   "cell_type": "markdown",
   "metadata": {},
   "source": [
    "-----"
   ]
  },
  {
   "cell_type": "markdown",
   "metadata": {},
   "source": [
    "#### 데이터 결합\n",
    "##### 결합을 진행하기 전에 반드시 **update_format**을 실행시키고, 할 것!!!"
   ]
  },
  {
   "cell_type": "code",
   "execution_count": null,
   "metadata": {},
   "outputs": [],
   "source": [
    "data1 = pd.read_csv(DATA_DIR + 'train.csv')\n",
    "data2 = pd.read_csv(DATA_DIR + 'train_bt_en.csv')\n",
    "data3 = pd.read_csv(DATA_DIR + 'train_bt_jp.csv')\n",
    "\n",
    "data4 = pd.concat([data1, data2, data3], axis=0)"
   ]
  },
  {
   "cell_type": "code",
   "execution_count": null,
   "metadata": {},
   "outputs": [],
   "source": [
    "output_file = 'train_problems_bt.csv'\n",
    "data4.to_csv(DATA_DIR + output_file, index=False)"
   ]
  }
 ],
 "metadata": {
  "kernelspec": {
   "display_name": "base",
   "language": "python",
   "name": "python3"
  },
  "language_info": {
   "codemirror_mode": {
    "name": "ipython",
    "version": 3
   },
   "file_extension": ".py",
   "mimetype": "text/x-python",
   "name": "python",
   "nbconvert_exporter": "python",
   "pygments_lexer": "ipython3",
   "version": "3.10.13"
  }
 },
 "nbformat": 4,
 "nbformat_minor": 2
}
